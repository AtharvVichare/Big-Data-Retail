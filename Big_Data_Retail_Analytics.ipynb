{
  "nbformat": 4,
  "nbformat_minor": 0,
  "metadata": {
    "colab": {
      "provenance": [],
      "include_colab_link": true
    },
    "kernelspec": {
      "name": "python3",
      "display_name": "Python 3"
    },
    "language_info": {
      "name": "python"
    }
  },
  "cells": [
    {
      "cell_type": "markdown",
      "metadata": {
        "id": "view-in-github",
        "colab_type": "text"
      },
      "source": [
        "<a href=\"https://colab.research.google.com/github/AtharvVichare/Big-Data-Retail/blob/main/Big_Data_Retail_Analytics.ipynb\" target=\"_parent\"><img src=\"https://colab.research.google.com/assets/colab-badge.svg\" alt=\"Open In Colab\"/></a>"
      ]
    },
    {
      "cell_type": "markdown",
      "source": [
        "# 📊 Big Data Retail Analytics: PCY vs Multistage PCY\n",
        "# Dataset: Online Retail (Kaggle)"
      ],
      "metadata": {
        "id": "TymX9RLUEHWW"
      }
    },
    {
      "cell_type": "code",
      "execution_count": null,
      "metadata": {
        "id": "Cw6MLH2QCwrm"
      },
      "outputs": [],
      "source": [
        "import kagglehub\n",
        "import pandas as pd\n",
        "import matplotlib.pyplot as plt\n",
        "import seaborn as sns\n",
        "import itertools\n",
        "import hashlib\n",
        "import time\n",
        "import numpy as np\n",
        "from collections import Counter"
      ]
    },
    {
      "cell_type": "markdown",
      "source": [
        " Load Dataset"
      ],
      "metadata": {
        "id": "F5TYdl-TEW7q"
      }
    },
    {
      "cell_type": "code",
      "source": [
        "path = kagglehub.dataset_download(\"lakshmi25npathi/online-retail-dataset\")\n",
        "print(\"Path to dataset files:\", path)"
      ],
      "metadata": {
        "colab": {
          "base_uri": "https://localhost:8080/"
        },
        "id": "X8aTBQKtC0nh",
        "outputId": "fb97c29a-fc6b-489e-d573-b6b1ae96bf09"
      },
      "execution_count": null,
      "outputs": [
        {
          "output_type": "stream",
          "name": "stdout",
          "text": [
            "Downloading from https://www.kaggle.com/api/v1/datasets/download/lakshmi25npathi/online-retail-dataset?dataset_version_number=1...\n"
          ]
        },
        {
          "output_type": "stream",
          "name": "stderr",
          "text": [
            "100%|██████████| 43.3M/43.3M [00:00<00:00, 69.7MB/s]"
          ]
        },
        {
          "output_type": "stream",
          "name": "stdout",
          "text": [
            "Extracting files...\n"
          ]
        },
        {
          "output_type": "stream",
          "name": "stderr",
          "text": [
            "\n"
          ]
        },
        {
          "output_type": "stream",
          "name": "stdout",
          "text": [
            "Path to dataset files: /root/.cache/kagglehub/datasets/lakshmi25npathi/online-retail-dataset/versions/1\n"
          ]
        }
      ]
    },
    {
      "cell_type": "code",
      "source": [
        "data = pd.read_excel(f\"{path}/online_retail_II.xlsx\")"
      ],
      "metadata": {
        "id": "QYP0ev30C2my"
      },
      "execution_count": null,
      "outputs": []
    },
    {
      "cell_type": "code",
      "metadata": {
        "colab": {
          "base_uri": "https://localhost:8080/"
        },
        "id": "a713c3d3",
        "outputId": "d52f2101-856e-4444-a2a2-b33b637f135f"
      },
      "source": [
        "import os\n",
        "\n",
        "# List files in the downloaded dataset directory\n",
        "print(os.listdir(path))"
      ],
      "execution_count": null,
      "outputs": [
        {
          "output_type": "stream",
          "name": "stdout",
          "text": [
            "['online_retail_II.xlsx']\n"
          ]
        }
      ]
    },
    {
      "cell_type": "markdown",
      "source": [
        "STEP 2: Basic Cleaning / Preprocessing\n"
      ],
      "metadata": {
        "id": "dt04WZjOEhnn"
      }
    },
    {
      "cell_type": "code",
      "source": [
        "print(\"\\nInitial Shape:\", data.shape)\n"
      ],
      "metadata": {
        "colab": {
          "base_uri": "https://localhost:8080/"
        },
        "id": "fIxS_kyuEkcj",
        "outputId": "8250462a-e963-4d25-effe-b89483f24b4a"
      },
      "execution_count": null,
      "outputs": [
        {
          "output_type": "stream",
          "name": "stdout",
          "text": [
            "\n",
            "Initial Shape: (525461, 8)\n"
          ]
        }
      ]
    },
    {
      "cell_type": "code",
      "source": [
        "data.head()"
      ],
      "metadata": {
        "colab": {
          "base_uri": "https://localhost:8080/",
          "height": 206
        },
        "id": "O-V4x48HEyuJ",
        "outputId": "7847dd97-f389-487f-bf94-4782bc4ebbce"
      },
      "execution_count": null,
      "outputs": [
        {
          "output_type": "execute_result",
          "data": {
            "text/plain": [
              "  Invoice StockCode                          Description  Quantity  \\\n",
              "0  489434     85048  15CM CHRISTMAS GLASS BALL 20 LIGHTS        12   \n",
              "1  489434    79323P                   PINK CHERRY LIGHTS        12   \n",
              "2  489434    79323W                  WHITE CHERRY LIGHTS        12   \n",
              "3  489434     22041         RECORD FRAME 7\" SINGLE SIZE         48   \n",
              "4  489434     21232       STRAWBERRY CERAMIC TRINKET BOX        24   \n",
              "\n",
              "          InvoiceDate  Price  Customer ID         Country  \n",
              "0 2009-12-01 07:45:00   6.95      13085.0  United Kingdom  \n",
              "1 2009-12-01 07:45:00   6.75      13085.0  United Kingdom  \n",
              "2 2009-12-01 07:45:00   6.75      13085.0  United Kingdom  \n",
              "3 2009-12-01 07:45:00   2.10      13085.0  United Kingdom  \n",
              "4 2009-12-01 07:45:00   1.25      13085.0  United Kingdom  "
            ],
            "text/html": [
              "\n",
              "  <div id=\"df-65803c55-8fba-4fb7-b237-11cb4c50a890\" class=\"colab-df-container\">\n",
              "    <div>\n",
              "<style scoped>\n",
              "    .dataframe tbody tr th:only-of-type {\n",
              "        vertical-align: middle;\n",
              "    }\n",
              "\n",
              "    .dataframe tbody tr th {\n",
              "        vertical-align: top;\n",
              "    }\n",
              "\n",
              "    .dataframe thead th {\n",
              "        text-align: right;\n",
              "    }\n",
              "</style>\n",
              "<table border=\"1\" class=\"dataframe\">\n",
              "  <thead>\n",
              "    <tr style=\"text-align: right;\">\n",
              "      <th></th>\n",
              "      <th>Invoice</th>\n",
              "      <th>StockCode</th>\n",
              "      <th>Description</th>\n",
              "      <th>Quantity</th>\n",
              "      <th>InvoiceDate</th>\n",
              "      <th>Price</th>\n",
              "      <th>Customer ID</th>\n",
              "      <th>Country</th>\n",
              "    </tr>\n",
              "  </thead>\n",
              "  <tbody>\n",
              "    <tr>\n",
              "      <th>0</th>\n",
              "      <td>489434</td>\n",
              "      <td>85048</td>\n",
              "      <td>15CM CHRISTMAS GLASS BALL 20 LIGHTS</td>\n",
              "      <td>12</td>\n",
              "      <td>2009-12-01 07:45:00</td>\n",
              "      <td>6.95</td>\n",
              "      <td>13085.0</td>\n",
              "      <td>United Kingdom</td>\n",
              "    </tr>\n",
              "    <tr>\n",
              "      <th>1</th>\n",
              "      <td>489434</td>\n",
              "      <td>79323P</td>\n",
              "      <td>PINK CHERRY LIGHTS</td>\n",
              "      <td>12</td>\n",
              "      <td>2009-12-01 07:45:00</td>\n",
              "      <td>6.75</td>\n",
              "      <td>13085.0</td>\n",
              "      <td>United Kingdom</td>\n",
              "    </tr>\n",
              "    <tr>\n",
              "      <th>2</th>\n",
              "      <td>489434</td>\n",
              "      <td>79323W</td>\n",
              "      <td>WHITE CHERRY LIGHTS</td>\n",
              "      <td>12</td>\n",
              "      <td>2009-12-01 07:45:00</td>\n",
              "      <td>6.75</td>\n",
              "      <td>13085.0</td>\n",
              "      <td>United Kingdom</td>\n",
              "    </tr>\n",
              "    <tr>\n",
              "      <th>3</th>\n",
              "      <td>489434</td>\n",
              "      <td>22041</td>\n",
              "      <td>RECORD FRAME 7\" SINGLE SIZE</td>\n",
              "      <td>48</td>\n",
              "      <td>2009-12-01 07:45:00</td>\n",
              "      <td>2.10</td>\n",
              "      <td>13085.0</td>\n",
              "      <td>United Kingdom</td>\n",
              "    </tr>\n",
              "    <tr>\n",
              "      <th>4</th>\n",
              "      <td>489434</td>\n",
              "      <td>21232</td>\n",
              "      <td>STRAWBERRY CERAMIC TRINKET BOX</td>\n",
              "      <td>24</td>\n",
              "      <td>2009-12-01 07:45:00</td>\n",
              "      <td>1.25</td>\n",
              "      <td>13085.0</td>\n",
              "      <td>United Kingdom</td>\n",
              "    </tr>\n",
              "  </tbody>\n",
              "</table>\n",
              "</div>\n",
              "    <div class=\"colab-df-buttons\">\n",
              "\n",
              "  <div class=\"colab-df-container\">\n",
              "    <button class=\"colab-df-convert\" onclick=\"convertToInteractive('df-65803c55-8fba-4fb7-b237-11cb4c50a890')\"\n",
              "            title=\"Convert this dataframe to an interactive table.\"\n",
              "            style=\"display:none;\">\n",
              "\n",
              "  <svg xmlns=\"http://www.w3.org/2000/svg\" height=\"24px\" viewBox=\"0 -960 960 960\">\n",
              "    <path d=\"M120-120v-720h720v720H120Zm60-500h600v-160H180v160Zm220 220h160v-160H400v160Zm0 220h160v-160H400v160ZM180-400h160v-160H180v160Zm440 0h160v-160H620v160ZM180-180h160v-160H180v160Zm440 0h160v-160H620v160Z\"/>\n",
              "  </svg>\n",
              "    </button>\n",
              "\n",
              "  <style>\n",
              "    .colab-df-container {\n",
              "      display:flex;\n",
              "      gap: 12px;\n",
              "    }\n",
              "\n",
              "    .colab-df-convert {\n",
              "      background-color: #E8F0FE;\n",
              "      border: none;\n",
              "      border-radius: 50%;\n",
              "      cursor: pointer;\n",
              "      display: none;\n",
              "      fill: #1967D2;\n",
              "      height: 32px;\n",
              "      padding: 0 0 0 0;\n",
              "      width: 32px;\n",
              "    }\n",
              "\n",
              "    .colab-df-convert:hover {\n",
              "      background-color: #E2EBFA;\n",
              "      box-shadow: 0px 1px 2px rgba(60, 64, 67, 0.3), 0px 1px 3px 1px rgba(60, 64, 67, 0.15);\n",
              "      fill: #174EA6;\n",
              "    }\n",
              "\n",
              "    .colab-df-buttons div {\n",
              "      margin-bottom: 4px;\n",
              "    }\n",
              "\n",
              "    [theme=dark] .colab-df-convert {\n",
              "      background-color: #3B4455;\n",
              "      fill: #D2E3FC;\n",
              "    }\n",
              "\n",
              "    [theme=dark] .colab-df-convert:hover {\n",
              "      background-color: #434B5C;\n",
              "      box-shadow: 0px 1px 3px 1px rgba(0, 0, 0, 0.15);\n",
              "      filter: drop-shadow(0px 1px 2px rgba(0, 0, 0, 0.3));\n",
              "      fill: #FFFFFF;\n",
              "    }\n",
              "  </style>\n",
              "\n",
              "    <script>\n",
              "      const buttonEl =\n",
              "        document.querySelector('#df-65803c55-8fba-4fb7-b237-11cb4c50a890 button.colab-df-convert');\n",
              "      buttonEl.style.display =\n",
              "        google.colab.kernel.accessAllowed ? 'block' : 'none';\n",
              "\n",
              "      async function convertToInteractive(key) {\n",
              "        const element = document.querySelector('#df-65803c55-8fba-4fb7-b237-11cb4c50a890');\n",
              "        const dataTable =\n",
              "          await google.colab.kernel.invokeFunction('convertToInteractive',\n",
              "                                                    [key], {});\n",
              "        if (!dataTable) return;\n",
              "\n",
              "        const docLinkHtml = 'Like what you see? Visit the ' +\n",
              "          '<a target=\"_blank\" href=https://colab.research.google.com/notebooks/data_table.ipynb>data table notebook</a>'\n",
              "          + ' to learn more about interactive tables.';\n",
              "        element.innerHTML = '';\n",
              "        dataTable['output_type'] = 'display_data';\n",
              "        await google.colab.output.renderOutput(dataTable, element);\n",
              "        const docLink = document.createElement('div');\n",
              "        docLink.innerHTML = docLinkHtml;\n",
              "        element.appendChild(docLink);\n",
              "      }\n",
              "    </script>\n",
              "  </div>\n",
              "\n",
              "\n",
              "    <div id=\"df-9e576b1b-6cce-4948-85f2-a0eeacb6a36d\">\n",
              "      <button class=\"colab-df-quickchart\" onclick=\"quickchart('df-9e576b1b-6cce-4948-85f2-a0eeacb6a36d')\"\n",
              "                title=\"Suggest charts\"\n",
              "                style=\"display:none;\">\n",
              "\n",
              "<svg xmlns=\"http://www.w3.org/2000/svg\" height=\"24px\"viewBox=\"0 0 24 24\"\n",
              "     width=\"24px\">\n",
              "    <g>\n",
              "        <path d=\"M19 3H5c-1.1 0-2 .9-2 2v14c0 1.1.9 2 2 2h14c1.1 0 2-.9 2-2V5c0-1.1-.9-2-2-2zM9 17H7v-7h2v7zm4 0h-2V7h2v10zm4 0h-2v-4h2v4z\"/>\n",
              "    </g>\n",
              "</svg>\n",
              "      </button>\n",
              "\n",
              "<style>\n",
              "  .colab-df-quickchart {\n",
              "      --bg-color: #E8F0FE;\n",
              "      --fill-color: #1967D2;\n",
              "      --hover-bg-color: #E2EBFA;\n",
              "      --hover-fill-color: #174EA6;\n",
              "      --disabled-fill-color: #AAA;\n",
              "      --disabled-bg-color: #DDD;\n",
              "  }\n",
              "\n",
              "  [theme=dark] .colab-df-quickchart {\n",
              "      --bg-color: #3B4455;\n",
              "      --fill-color: #D2E3FC;\n",
              "      --hover-bg-color: #434B5C;\n",
              "      --hover-fill-color: #FFFFFF;\n",
              "      --disabled-bg-color: #3B4455;\n",
              "      --disabled-fill-color: #666;\n",
              "  }\n",
              "\n",
              "  .colab-df-quickchart {\n",
              "    background-color: var(--bg-color);\n",
              "    border: none;\n",
              "    border-radius: 50%;\n",
              "    cursor: pointer;\n",
              "    display: none;\n",
              "    fill: var(--fill-color);\n",
              "    height: 32px;\n",
              "    padding: 0;\n",
              "    width: 32px;\n",
              "  }\n",
              "\n",
              "  .colab-df-quickchart:hover {\n",
              "    background-color: var(--hover-bg-color);\n",
              "    box-shadow: 0 1px 2px rgba(60, 64, 67, 0.3), 0 1px 3px 1px rgba(60, 64, 67, 0.15);\n",
              "    fill: var(--button-hover-fill-color);\n",
              "  }\n",
              "\n",
              "  .colab-df-quickchart-complete:disabled,\n",
              "  .colab-df-quickchart-complete:disabled:hover {\n",
              "    background-color: var(--disabled-bg-color);\n",
              "    fill: var(--disabled-fill-color);\n",
              "    box-shadow: none;\n",
              "  }\n",
              "\n",
              "  .colab-df-spinner {\n",
              "    border: 2px solid var(--fill-color);\n",
              "    border-color: transparent;\n",
              "    border-bottom-color: var(--fill-color);\n",
              "    animation:\n",
              "      spin 1s steps(1) infinite;\n",
              "  }\n",
              "\n",
              "  @keyframes spin {\n",
              "    0% {\n",
              "      border-color: transparent;\n",
              "      border-bottom-color: var(--fill-color);\n",
              "      border-left-color: var(--fill-color);\n",
              "    }\n",
              "    20% {\n",
              "      border-color: transparent;\n",
              "      border-left-color: var(--fill-color);\n",
              "      border-top-color: var(--fill-color);\n",
              "    }\n",
              "    30% {\n",
              "      border-color: transparent;\n",
              "      border-left-color: var(--fill-color);\n",
              "      border-top-color: var(--fill-color);\n",
              "      border-right-color: var(--fill-color);\n",
              "    }\n",
              "    40% {\n",
              "      border-color: transparent;\n",
              "      border-right-color: var(--fill-color);\n",
              "      border-top-color: var(--fill-color);\n",
              "    }\n",
              "    60% {\n",
              "      border-color: transparent;\n",
              "      border-right-color: var(--fill-color);\n",
              "    }\n",
              "    80% {\n",
              "      border-color: transparent;\n",
              "      border-right-color: var(--fill-color);\n",
              "      border-bottom-color: var(--fill-color);\n",
              "    }\n",
              "    90% {\n",
              "      border-color: transparent;\n",
              "      border-bottom-color: var(--fill-color);\n",
              "    }\n",
              "  }\n",
              "</style>\n",
              "\n",
              "      <script>\n",
              "        async function quickchart(key) {\n",
              "          const quickchartButtonEl =\n",
              "            document.querySelector('#' + key + ' button');\n",
              "          quickchartButtonEl.disabled = true;  // To prevent multiple clicks.\n",
              "          quickchartButtonEl.classList.add('colab-df-spinner');\n",
              "          try {\n",
              "            const charts = await google.colab.kernel.invokeFunction(\n",
              "                'suggestCharts', [key], {});\n",
              "          } catch (error) {\n",
              "            console.error('Error during call to suggestCharts:', error);\n",
              "          }\n",
              "          quickchartButtonEl.classList.remove('colab-df-spinner');\n",
              "          quickchartButtonEl.classList.add('colab-df-quickchart-complete');\n",
              "        }\n",
              "        (() => {\n",
              "          let quickchartButtonEl =\n",
              "            document.querySelector('#df-9e576b1b-6cce-4948-85f2-a0eeacb6a36d button');\n",
              "          quickchartButtonEl.style.display =\n",
              "            google.colab.kernel.accessAllowed ? 'block' : 'none';\n",
              "        })();\n",
              "      </script>\n",
              "    </div>\n",
              "\n",
              "    </div>\n",
              "  </div>\n"
            ],
            "application/vnd.google.colaboratory.intrinsic+json": {
              "type": "dataframe",
              "variable_name": "data"
            }
          },
          "metadata": {},
          "execution_count": 10
        }
      ]
    },
    {
      "cell_type": "code",
      "source": [
        "data = data.dropna(subset=[\"Invoice\", \"Description\", \"Quantity\", \"Price\"])\n"
      ],
      "metadata": {
        "id": "GMzG0yTTEqfS"
      },
      "execution_count": null,
      "outputs": []
    },
    {
      "cell_type": "code",
      "source": [
        "data = data[data[\"Quantity\"] > 0]"
      ],
      "metadata": {
        "id": "xcCbnmsuEsOq"
      },
      "execution_count": null,
      "outputs": []
    },
    {
      "cell_type": "code",
      "source": [
        "data[\"Description\"] = data[\"Description\"].astype(str).str.strip().str.lower()\n",
        "data[\"Description\"] = data[\"Description\"].str.replace(r\"[^a-zA-Z0-9\\s]\", \"\", regex=True)\n",
        "\n",
        "print(\"After Cleaning:\", data.shape)\n",
        "print(\"Unique products:\", data[\"Description\"].nunique())\n"
      ],
      "metadata": {
        "colab": {
          "base_uri": "https://localhost:8080/"
        },
        "id": "FC5NJAQ8FD5m",
        "outputId": "0e4559aa-441e-4b32-fb7c-bb66eeda5575"
      },
      "execution_count": null,
      "outputs": [
        {
          "output_type": "stream",
          "name": "stdout",
          "text": [
            "After Cleaning: (512034, 8)\n",
            "Unique products: 4475\n"
          ]
        }
      ]
    },
    {
      "cell_type": "markdown",
      "source": [
        "STEP 3: Exploratory Data Analysis (EDA)"
      ],
      "metadata": {
        "id": "wbGb0yVkFMuA"
      }
    },
    {
      "cell_type": "code",
      "source": [
        "top_items = data[\"Description\"].value_counts().head(15)\n",
        "plt.figure(figsize=(10,5))\n",
        "sns.barplot(x=top_items.values, y=top_items.index, palette=\"crest\")\n",
        "plt.title(\"Top 15 Most Sold Products\")\n",
        "plt.xlabel(\"Quantity Sold\")\n",
        "plt.ylabel(\"Product Description\")\n",
        "plt.show()"
      ],
      "metadata": {
        "colab": {
          "base_uri": "https://localhost:8080/",
          "height": 594
        },
        "id": "7tTcr5GaFJs6",
        "outputId": "1f89a081-471d-47fe-c7e5-a9681f04ec16"
      },
      "execution_count": null,
      "outputs": [
        {
          "output_type": "stream",
          "name": "stderr",
          "text": [
            "/tmp/ipython-input-1220412063.py:3: FutureWarning: \n",
            "\n",
            "Passing `palette` without assigning `hue` is deprecated and will be removed in v0.14.0. Assign the `y` variable to `hue` and set `legend=False` for the same effect.\n",
            "\n",
            "  sns.barplot(x=top_items.values, y=top_items.index, palette=\"crest\")\n"
          ]
        },
        {
          "output_type": "display_data",
          "data": {
            "text/plain": [
              "<Figure size 1000x500 with 1 Axes>"
            ],
            "image/png": "[encoded data removed]"
          },
          "metadata": {}
        }
      ]
    },
    {
      "cell_type": "code",
      "source": [
        "plt.figure(figsize=(12,5))\n",
        "data[\"Country\"].value_counts().head(10).plot(kind=\"bar\", color=\"teal\")\n",
        "plt.title(\"Top 10 Countries by Number of Transactions\")\n",
        "plt.ylabel(\"Count\")\n",
        "plt.xlabel(\"Country\")\n",
        "plt.show()"
      ],
      "metadata": {
        "colab": {
          "base_uri": "https://localhost:8080/",
          "height": 584
        },
        "id": "ZjSwQlVIFV6R",
        "outputId": "e7566a4f-36de-4a33-c948-cddc6e71fa24"
      },
      "execution_count": null,
      "outputs": [
        {
          "output_type": "display_data",
          "data": {
            "text/plain": [
              "<Figure size 1200x500 with 1 Axes>"
            ],
            "image/png": "[encoded data removed]"
          },
          "metadata": {}
        }
      ]
    },
    {
      "cell_type": "code",
      "source": [
        "avg_basket_size = data.groupby(\"Invoice\")[\"Description\"].nunique().mean()\n",
        "print(f\"\\n🧺 Average Basket Size (unique items per transaction): {avg_basket_size:.2f}\")\n"
      ],
      "metadata": {
        "colab": {
          "base_uri": "https://localhost:8080/"
        },
        "id": "OUPVD3B3FZJa",
        "outputId": "05560721-5bc4-43b7-ee6b-66d22e054337"
      },
      "execution_count": null,
      "outputs": [
        {
          "output_type": "stream",
          "name": "stdout",
          "text": [
            "\n",
            "🧺 Average Basket Size (unique items per transaction): 23.73\n"
          ]
        }
      ]
    },
    {
      "cell_type": "code",
      "source": [
        "transactions = data.groupby(\"Invoice\")[\"Description\"].apply(list).tolist()\n",
        "print(f\"Total Transactions: {len(transactions)}\")\n"
      ],
      "metadata": {
        "colab": {
          "base_uri": "https://localhost:8080/"
        },
        "id": "3fH0rkEsFb7U",
        "outputId": "9b1096a5-de7d-4e6f-f355-cff3431bd595"
      },
      "execution_count": null,
      "outputs": [
        {
          "output_type": "stream",
          "name": "stdout",
          "text": [
            "Total Transactions: 21003\n"
          ]
        }
      ]
    },
    {
      "cell_type": "markdown",
      "source": [
        "STEP 4: Helper Functions"
      ],
      "metadata": {
        "id": "vmkY61XAFlnp"
      }
    },
    {
      "cell_type": "code",
      "source": [
        "\n",
        "def get_frequent_items(transactions, min_support):\n",
        "    \"\"\"Return frequent items and their counts.\"\"\"\n",
        "    item_counts = {}\n",
        "    for trans in transactions:\n",
        "        for item in trans:\n",
        "            item_counts[item] = item_counts.get(item, 0) + 1\n",
        "    return {i: c for i, c in item_counts.items() if c >= min_support}\n"
      ],
      "metadata": {
        "id": "4h-lQHkyFgUs"
      },
      "execution_count": null,
      "outputs": []
    },
    {
      "cell_type": "code",
      "source": [
        "def hash_pair(pair, num_buckets, stage=1):\n",
        "    \"\"\"Hash function for bucket index, changes with stage.\"\"\"\n",
        "    if stage == 1:\n",
        "        return hash(pair) % num_buckets\n",
        "    else:\n",
        "        return int(hashlib.md5(str(pair).encode()).hexdigest(), 16) % num_buckets\n"
      ],
      "metadata": {
        "id": "aYxIDpliFoCG"
      },
      "execution_count": null,
      "outputs": []
    },
    {
      "cell_type": "code",
      "source": [
        "def pcy(transactions, min_support, num_buckets=1000):\n",
        "    \"\"\"Basic PCY Algorithm Implementation\"\"\"\n",
        "    item_counts = {}\n",
        "    bucket_counts = [0] * num_buckets\n",
        "    for trans in transactions:\n",
        "        items = list(set(trans))\n",
        "        for i in range(len(items)):\n",
        "            item_counts[items[i]] = item_counts.get(items[i], 0) + 1\n",
        "            for j in range(i+1, len(items)):\n",
        "                b = hash_pair((items[i], items[j]), num_buckets)\n",
        "                bucket_counts[b] += 1\n",
        "\n",
        "    frequent_items = {i for i, c in item_counts.items() if c >= min_support}\n",
        "    frequent_buckets = {i for i, c in enumerate(bucket_counts) if c >= min_support}\n",
        "\n",
        "    pair_counts = {}\n",
        "    for trans in transactions:\n",
        "        items = [i for i in trans if i in frequent_items]\n",
        "        for i, j in itertools.combinations(items, 2):\n",
        "            b = hash_pair((i, j), num_buckets)\n",
        "            if b in frequent_buckets:\n",
        "                pair_counts[(i, j)] = pair_counts.get((i, j), 0) + 1\n",
        "\n",
        "    return {p: c for p, c in pair_counts.items() if c >= min_support}"
      ],
      "metadata": {
        "id": "MhG8bKRcFqY_"
      },
      "execution_count": null,
      "outputs": []
    },
    {
      "cell_type": "code",
      "source": [
        "def multistage_pcy(transactions, min_support, num_buckets=1000):\n",
        "    \"\"\"Multistage PCY (two hash tables, two passes)\"\"\"\n",
        "    item_counts = {}\n",
        "    bucket_counts1 = [0] * num_buckets\n",
        "\n",
        "    for trans in transactions:\n",
        "        items = list(set(trans))\n",
        "        for i in range(len(items)):\n",
        "            item_counts[items[i]] = item_counts.get(items[i], 0) + 1\n",
        "            for j in range(i+1, len(items)):\n",
        "                b1 = hash_pair((items[i], items[j]), num_buckets, stage=1)\n",
        "                bucket_counts1[b1] += 1\n",
        "\n",
        "    frequent_items = {i for i, c in item_counts.items() if c >= min_support}\n",
        "    frequent_buckets1 = {i for i, c in enumerate(bucket_counts1) if c >= min_support}\n",
        "\n",
        "    bucket_counts2 = [0] * num_buckets\n",
        "    for trans in transactions:\n",
        "        items = [i for i in trans if i in frequent_items]\n",
        "        for i, j in itertools.combinations(items, 2):\n",
        "            b1 = hash_pair((i, j), num_buckets, stage=1)\n",
        "            if b1 in frequent_buckets1:\n",
        "                b2 = hash_pair((i, j), num_buckets, stage=2)\n",
        "                bucket_counts2[b2] += 1\n",
        "\n",
        "    frequent_buckets2 = {i for i, c in enumerate(bucket_counts2) if c >= min_support}\n",
        "\n",
        "    pair_counts = {}\n",
        "    for trans in transactions:\n",
        "        items = [i for i in trans if i in frequent_items]\n",
        "        for i, j in itertools.combinations(items, 2):\n",
        "            b1 = hash_pair((i, j), num_buckets, stage=1)\n",
        "            b2 = hash_pair((i, j), num_buckets, stage=2)\n",
        "            if b1 in frequent_buckets1 and b2 in frequent_buckets2:\n",
        "                pair_counts[(i, j)] = pair_counts.get((i, j), 0) + 1\n",
        "\n",
        "    return {p: c for p, c in pair_counts.items() if c >= min_support}"
      ],
      "metadata": {
        "id": "9I2sDTYdFuBJ"
      },
      "execution_count": null,
      "outputs": []
    },
    {
      "cell_type": "markdown",
      "source": [
        "STEP 5: Run Algorithms"
      ],
      "metadata": {
        "id": "VrFs6he-GWq4"
      }
    },
    {
      "cell_type": "code",
      "source": [
        "min_support = 25\n",
        "sample_tx = transactions[:10000] # Increased sample size"
      ],
      "metadata": {
        "id": "QbZjyr7fGGhA"
      },
      "execution_count": null,
      "outputs": []
    },
    {
      "cell_type": "code",
      "source": [
        "start = time.time()\n",
        "pcy_pairs = pcy(sample_tx, min_support)\n",
        "time_pcy = time.time() - start"
      ],
      "metadata": {
        "id": "AObs5SPjGfGD"
      },
      "execution_count": null,
      "outputs": []
    },
    {
      "cell_type": "code",
      "source": [
        "start = time.time()\n",
        "multi_pairs = multistage_pcy(sample_tx, min_support)\n",
        "time_multi = time.time() - start"
      ],
      "metadata": {
        "id": "ZQi5softGhOs"
      },
      "execution_count": null,
      "outputs": []
    },
    {
      "cell_type": "markdown",
      "source": [
        "STEP 6: Compare Results"
      ],
      "metadata": {
        "id": "VwSPFqbUGmkS"
      }
    },
    {
      "cell_type": "code",
      "source": [
        "print(\"\\n--- Algorithm Comparison ---\")\n",
        "print(f\"Frequent pairs (PCY): {len(pcy_pairs)}\")\n",
        "print(f\"Frequent pairs (Multistage PCY): {len(multi_pairs)}\")\n",
        "print(f\"Execution time (PCY): {time_pcy:.2f}s\")\n",
        "print(f\"Execution time (Multistage PCY): {time_multi:.2f}s\")"
      ],
      "metadata": {
        "colab": {
          "base_uri": "https://localhost:8080/"
        },
        "id": "Dc4Ph9daGj2S",
        "outputId": "a1b265d7-af65-408b-ad6f-52f9604e7794"
      },
      "execution_count": null,
      "outputs": [
        {
          "output_type": "stream",
          "name": "stdout",
          "text": [
            "\n",
            "--- Algorithm Comparison ---\n",
            "Frequent pairs (PCY): 5773\n",
            "Frequent pairs (Multistage PCY): 5773\n",
            "Execution time (PCY): 8.55s\n",
            "Execution time (Multistage PCY): 38.82s\n"
          ]
        }
      ]
    },
    {
      "cell_type": "code",
      "source": [
        "false_pos_reduction = (1 - len(multi_pairs) / len(pcy_pairs)) * 100 if len(pcy_pairs) > 0 else 0\n",
        "print(f\"False positives reduced by approx: {false_pos_reduction:.2f}%\")"
      ],
      "metadata": {
        "colab": {
          "base_uri": "https://localhost:8080/"
        },
        "id": "ZqBLES4bGl5m",
        "outputId": "186744e4-c70e-4b2b-dce8-f41f8196c9ac"
      },
      "execution_count": null,
      "outputs": [
        {
          "output_type": "stream",
          "name": "stdout",
          "text": [
            "False positives reduced by approx: 0.00%\n"
          ]
        }
      ]
    },
    {
      "cell_type": "code",
      "source": [
        "plt.figure(figsize=(8,5))\n",
        "plt.bar([\"PCY\", \"Multistage PCY\"], [len(pcy_pairs), len(multi_pairs)], color=[\"#4a90e2\", \"#50e3c2\"])\n",
        "plt.title(\"Number of Frequent Pairs Found\")\n",
        "plt.ylabel(\"Count of Frequent Pairs\")\n",
        "plt.show()"
      ],
      "metadata": {
        "colab": {
          "base_uri": "https://localhost:8080/",
          "height": 468
        },
        "id": "B1zKQBh4G088",
        "outputId": "086c9bfc-3b0a-48c8-e390-ed705feaa22d"
      },
      "execution_count": null,
      "outputs": [
        {
          "output_type": "display_data",
          "data": {
            "text/plain": [
              "<Figure size 800x500 with 1 Axes>"
            ],
            "image/png": "[encoded data removed]"
          },
          "metadata": {}
        }
      ]
    },
    {
      "cell_type": "code",
      "source": [
        "plt.figure(figsize=(8,5))\n",
        "plt.bar([\"PCY\", \"Multistage PCY\"], [time_pcy, time_multi], color=[\"#e26a4a\", \"#4ae295\"])\n",
        "plt.title(\"Execution Time Comparison\")\n",
        "plt.ylabel(\"Time (seconds)\")\n",
        "plt.show()"
      ],
      "metadata": {
        "colab": {
          "base_uri": "https://localhost:8080/",
          "height": 468
        },
        "id": "Bmbo87-kG2-7",
        "outputId": "418aa6fc-7435-467b-ace1-989b0aee36a8"
      },
      "execution_count": null,
      "outputs": [
        {
          "output_type": "display_data",
          "data": {
            "text/plain": [
              "<Figure size 800x500 with 1 Axes>"
            ],
            "image/png": "[encoded data removed]"
          },
          "metadata": {}
        }
      ]
    },
    {
      "cell_type": "code",
      "source": [
        "efficiency = pd.DataFrame({\n",
        "    \"Algorithm\": [\"PCY\", \"Multistage PCY\"],\n",
        "    \"Frequent Pairs\": [len(pcy_pairs), len(multi_pairs)],\n",
        "    \"Time (s)\": [time_pcy, time_multi]\n",
        "})"
      ],
      "metadata": {
        "id": "LDLA8SIPG6Zo"
      },
      "execution_count": null,
      "outputs": []
    },
    {
      "cell_type": "code",
      "source": [
        "display(efficiency)\n"
      ],
      "metadata": {
        "colab": {
          "base_uri": "https://localhost:8080/",
          "height": 125
        },
        "id": "VkT8tGEhG88V",
        "outputId": "b7f12964-3dc9-486e-ab59-039a25ba0b33"
      },
      "execution_count": null,
      "outputs": [
        {
          "output_type": "display_data",
          "data": {
            "text/plain": [
              "        Algorithm  Frequent Pairs   Time (s)\n",
              "0             PCY            5773   8.552984\n",
              "1  Multistage PCY            5773  38.817999"
            ],
            "text/html": [
              "\n",
              "  <div id=\"df-accd0b82-09d9-4651-bd78-bbd514767982\" class=\"colab-df-container\">\n",
              "    <div>\n",
              "<style scoped>\n",
              "    .dataframe tbody tr th:only-of-type {\n",
              "        vertical-align: middle;\n",
              "    }\n",
              "\n",
              "    .dataframe tbody tr th {\n",
              "        vertical-align: top;\n",
              "    }\n",
              "\n",
              "    .dataframe thead th {\n",
              "        text-align: right;\n",
              "    }\n",
              "</style>\n",
              "<table border=\"1\" class=\"dataframe\">\n",
              "  <thead>\n",
              "    <tr style=\"text-align: right;\">\n",
              "      <th></th>\n",
              "      <th>Algorithm</th>\n",
              "      <th>Frequent Pairs</th>\n",
              "      <th>Time (s)</th>\n",
              "    </tr>\n",
              "  </thead>\n",
              "  <tbody>\n",
              "    <tr>\n",
              "      <th>0</th>\n",
              "      <td>PCY</td>\n",
              "      <td>5773</td>\n",
              "      <td>8.552984</td>\n",
              "    </tr>\n",
              "    <tr>\n",
              "      <th>1</th>\n",
              "      <td>Multistage PCY</td>\n",
              "      <td>5773</td>\n",
              "      <td>38.817999</td>\n",
              "    </tr>\n",
              "  </tbody>\n",
              "</table>\n",
              "</div>\n",
              "    <div class=\"colab-df-buttons\">\n",
              "\n",
              "  <div class=\"colab-df-container\">\n",
              "    <button class=\"colab-df-convert\" onclick=\"convertToInteractive('df-accd0b82-09d9-4651-bd78-bbd514767982')\"\n",
              "            title=\"Convert this dataframe to an interactive table.\"\n",
              "            style=\"display:none;\">\n",
              "\n",
              "  <svg xmlns=\"http://www.w3.org/2000/svg\" height=\"24px\" viewBox=\"0 -960 960 960\">\n",
              "    <path d=\"M120-120v-720h720v720H120Zm60-500h600v-160H180v160Zm220 220h160v-160H400v160Zm0 220h160v-160H400v160ZM180-400h160v-160H180v160Zm440 0h160v-160H620v160ZM180-180h160v-160H180v160Zm440 0h160v-160H620v160Z\"/>\n",
              "  </svg>\n",
              "    </button>\n",
              "\n",
              "  <style>\n",
              "    .colab-df-container {\n",
              "      display:flex;\n",
              "      gap: 12px;\n",
              "    }\n",
              "\n",
              "    .colab-df-convert {\n",
              "      background-color: #E8F0FE;\n",
              "      border: none;\n",
              "      border-radius: 50%;\n",
              "      cursor: pointer;\n",
              "      display: none;\n",
              "      fill: #1967D2;\n",
              "      height: 32px;\n",
              "      padding: 0 0 0 0;\n",
              "      width: 32px;\n",
              "    }\n",
              "\n",
              "    .colab-df-convert:hover {\n",
              "      background-color: #E2EBFA;\n",
              "      box-shadow: 0px 1px 2px rgba(60, 64, 67, 0.3), 0px 1px 3px 1px rgba(60, 64, 67, 0.15);\n",
              "      fill: #174EA6;\n",
              "    }\n",
              "\n",
              "    .colab-df-buttons div {\n",
              "      margin-bottom: 4px;\n",
              "    }\n",
              "\n",
              "    [theme=dark] .colab-df-convert {\n",
              "      background-color: #3B4455;\n",
              "      fill: #D2E3FC;\n",
              "    }\n",
              "\n",
              "    [theme=dark] .colab-df-convert:hover {\n",
              "      background-color: #434B5C;\n",
              "      box-shadow: 0px 1px 3px 1px rgba(0, 0, 0, 0.15);\n",
              "      filter: drop-shadow(0px 1px 2px rgba(0, 0, 0, 0.3));\n",
              "      fill: #FFFFFF;\n",
              "    }\n",
              "  </style>\n",
              "\n",
              "    <script>\n",
              "      const buttonEl =\n",
              "        document.querySelector('#df-accd0b82-09d9-4651-bd78-bbd514767982 button.colab-df-convert');\n",
              "      buttonEl.style.display =\n",
              "        google.colab.kernel.accessAllowed ? 'block' : 'none';\n",
              "\n",
              "      async function convertToInteractive(key) {\n",
              "        const element = document.querySelector('#df-accd0b82-09d9-4651-bd78-bbd514767982');\n",
              "        const dataTable =\n",
              "          await google.colab.kernel.invokeFunction('convertToInteractive',\n",
              "                                                    [key], {});\n",
              "        if (!dataTable) return;\n",
              "\n",
              "        const docLinkHtml = 'Like what you see? Visit the ' +\n",
              "          '<a target=\"_blank\" href=https://colab.research.google.com/notebooks/data_table.ipynb>data table notebook</a>'\n",
              "          + ' to learn more about interactive tables.';\n",
              "        element.innerHTML = '';\n",
              "        dataTable['output_type'] = 'display_data';\n",
              "        await google.colab.output.renderOutput(dataTable, element);\n",
              "        const docLink = document.createElement('div');\n",
              "        docLink.innerHTML = docLinkHtml;\n",
              "        element.appendChild(docLink);\n",
              "      }\n",
              "    </script>\n",
              "  </div>\n",
              "\n",
              "\n",
              "    <div id=\"df-0364be19-7d9e-4809-9f74-b9974c5b8ce5\">\n",
              "      <button class=\"colab-df-quickchart\" onclick=\"quickchart('df-0364be19-7d9e-4809-9f74-b9974c5b8ce5')\"\n",
              "                title=\"Suggest charts\"\n",
              "                style=\"display:none;\">\n",
              "\n",
              "<svg xmlns=\"http://www.w3.org/2000/svg\" height=\"24px\"viewBox=\"0 0 24 24\"\n",
              "     width=\"24px\">\n",
              "    <g>\n",
              "        <path d=\"M19 3H5c-1.1 0-2 .9-2 2v14c0 1.1.9 2 2 2h14c1.1 0 2-.9 2-2V5c0-1.1-.9-2-2-2zM9 17H7v-7h2v7zm4 0h-2V7h2v10zm4 0h-2v-4h2v4z\"/>\n",
              "    </g>\n",
              "</svg>\n",
              "      </button>\n",
              "\n",
              "<style>\n",
              "  .colab-df-quickchart {\n",
              "      --bg-color: #E8F0FE;\n",
              "      --fill-color: #1967D2;\n",
              "      --hover-bg-color: #E2EBFA;\n",
              "      --hover-fill-color: #174EA6;\n",
              "      --disabled-fill-color: #AAA;\n",
              "      --disabled-bg-color: #DDD;\n",
              "  }\n",
              "\n",
              "  [theme=dark] .colab-df-quickchart {\n",
              "      --bg-color: #3B4455;\n",
              "      --fill-color: #D2E3FC;\n",
              "      --hover-bg-color: #434B5C;\n",
              "      --hover-fill-color: #FFFFFF;\n",
              "      --disabled-bg-color: #3B4455;\n",
              "      --disabled-fill-color: #666;\n",
              "  }\n",
              "\n",
              "  .colab-df-quickchart {\n",
              "    background-color: var(--bg-color);\n",
              "    border: none;\n",
              "    border-radius: 50%;\n",
              "    cursor: pointer;\n",
              "    display: none;\n",
              "    fill: var(--fill-color);\n",
              "    height: 32px;\n",
              "    padding: 0;\n",
              "    width: 32px;\n",
              "  }\n",
              "\n",
              "  .colab-df-quickchart:hover {\n",
              "    background-color: var(--hover-bg-color);\n",
              "    box-shadow: 0 1px 2px rgba(60, 64, 67, 0.3), 0 1px 3px 1px rgba(60, 64, 67, 0.15);\n",
              "    fill: var(--button-hover-fill-color);\n",
              "  }\n",
              "\n",
              "  .colab-df-quickchart-complete:disabled,\n",
              "  .colab-df-quickchart-complete:disabled:hover {\n",
              "    background-color: var(--disabled-bg-color);\n",
              "    fill: var(--disabled-fill-color);\n",
              "    box-shadow: none;\n",
              "  }\n",
              "\n",
              "  .colab-df-spinner {\n",
              "    border: 2px solid var(--fill-color);\n",
              "    border-color: transparent;\n",
              "    border-bottom-color: var(--fill-color);\n",
              "    animation:\n",
              "      spin 1s steps(1) infinite;\n",
              "  }\n",
              "\n",
              "  @keyframes spin {\n",
              "    0% {\n",
              "      border-color: transparent;\n",
              "      border-bottom-color: var(--fill-color);\n",
              "      border-left-color: var(--fill-color);\n",
              "    }\n",
              "    20% {\n",
              "      border-color: transparent;\n",
              "      border-left-color: var(--fill-color);\n",
              "      border-top-color: var(--fill-color);\n",
              "    }\n",
              "    30% {\n",
              "      border-color: transparent;\n",
              "      border-left-color: var(--fill-color);\n",
              "      border-top-color: var(--fill-color);\n",
              "      border-right-color: var(--fill-color);\n",
              "    }\n",
              "    40% {\n",
              "      border-color: transparent;\n",
              "      border-right-color: var(--fill-color);\n",
              "      border-top-color: var(--fill-color);\n",
              "    }\n",
              "    60% {\n",
              "      border-color: transparent;\n",
              "      border-right-color: var(--fill-color);\n",
              "    }\n",
              "    80% {\n",
              "      border-color: transparent;\n",
              "      border-right-color: var(--fill-color);\n",
              "      border-bottom-color: var(--fill-color);\n",
              "    }\n",
              "    90% {\n",
              "      border-color: transparent;\n",
              "      border-bottom-color: var(--fill-color);\n",
              "    }\n",
              "  }\n",
              "</style>\n",
              "\n",
              "      <script>\n",
              "        async function quickchart(key) {\n",
              "          const quickchartButtonEl =\n",
              "            document.querySelector('#' + key + ' button');\n",
              "          quickchartButtonEl.disabled = true;  // To prevent multiple clicks.\n",
              "          quickchartButtonEl.classList.add('colab-df-spinner');\n",
              "          try {\n",
              "            const charts = await google.colab.kernel.invokeFunction(\n",
              "                'suggestCharts', [key], {});\n",
              "          } catch (error) {\n",
              "            console.error('Error during call to suggestCharts:', error);\n",
              "          }\n",
              "          quickchartButtonEl.classList.remove('colab-df-spinner');\n",
              "          quickchartButtonEl.classList.add('colab-df-quickchart-complete');\n",
              "        }\n",
              "        (() => {\n",
              "          let quickchartButtonEl =\n",
              "            document.querySelector('#df-0364be19-7d9e-4809-9f74-b9974c5b8ce5 button');\n",
              "          quickchartButtonEl.style.display =\n",
              "            google.colab.kernel.accessAllowed ? 'block' : 'none';\n",
              "        })();\n",
              "      </script>\n",
              "    </div>\n",
              "\n",
              "  <div id=\"id_f7acc1d8-3f18-480f-a46f-902eeff76f98\">\n",
              "    <style>\n",
              "      .colab-df-generate {\n",
              "        background-color: #E8F0FE;\n",
              "        border: none;\n",
              "        border-radius: 50%;\n",
              "        cursor: pointer;\n",
              "        display: none;\n",
              "        fill: #1967D2;\n",
              "        height: 32px;\n",
              "        padding: 0 0 0 0;\n",
              "        width: 32px;\n",
              "      }\n",
              "\n",
              "      .colab-df-generate:hover {\n",
              "        background-color: #E2EBFA;\n",
              "        box-shadow: 0px 1px 2px rgba(60, 64, 67, 0.3), 0px 1px 3px 1px rgba(60, 64, 67, 0.15);\n",
              "        fill: #174EA6;\n",
              "      }\n",
              "\n",
              "      [theme=dark] .colab-df-generate {\n",
              "        background-color: #3B4455;\n",
              "        fill: #D2E3FC;\n",
              "      }\n",
              "\n",
              "      [theme=dark] .colab-df-generate:hover {\n",
              "        background-color: #434B5C;\n",
              "        box-shadow: 0px 1px 3px 1px rgba(0, 0, 0, 0.15);\n",
              "        filter: drop-shadow(0px 1px 2px rgba(0, 0, 0, 0.3));\n",
              "        fill: #FFFFFF;\n",
              "      }\n",
              "    </style>\n",
              "    <button class=\"colab-df-generate\" onclick=\"generateWithVariable('efficiency')\"\n",
              "            title=\"Generate code using this dataframe.\"\n",
              "            style=\"display:none;\">\n",
              "\n",
              "  <svg xmlns=\"http://www.w3.org/2000/svg\" height=\"24px\"viewBox=\"0 0 24 24\"\n",
              "       width=\"24px\">\n",
              "    <path d=\"M7,19H8.4L18.45,9,17,7.55,7,17.6ZM5,21V16.75L18.45,3.32a2,2,0,0,1,2.83,0l1.4,1.43a1.91,1.91,0,0,1,.58,1.4,1.91,1.91,0,0,1-.58,1.4L9.25,21ZM18.45,9,17,7.55Zm-12,3A5.31,5.31,0,0,0,4.9,8.1,5.31,5.31,0,0,0,1,6.5,5.31,5.31,0,0,0,4.9,4.9,5.31,5.31,0,0,0,6.5,1,5.31,5.31,0,0,0,8.1,4.9,5.31,5.31,0,0,0,12,6.5,5.46,5.46,0,0,0,6.5,12Z\"/>\n",
              "  </svg>\n",
              "    </button>\n",
              "    <script>\n",
              "      (() => {\n",
              "      const buttonEl =\n",
              "        document.querySelector('#id_f7acc1d8-3f18-480f-a46f-902eeff76f98 button.colab-df-generate');\n",
              "      buttonEl.style.display =\n",
              "        google.colab.kernel.accessAllowed ? 'block' : 'none';\n",
              "\n",
              "      buttonEl.onclick = () => {\n",
              "        google.colab.notebook.generateWithVariable('efficiency');\n",
              "      }\n",
              "      })();\n",
              "    </script>\n",
              "  </div>\n",
              "\n",
              "    </div>\n",
              "  </div>\n"
            ],
            "application/vnd.google.colaboratory.intrinsic+json": {
              "type": "dataframe",
              "variable_name": "efficiency",
              "summary": "{\n  \"name\": \"efficiency\",\n  \"rows\": 2,\n  \"fields\": [\n    {\n      \"column\": \"Algorithm\",\n      \"properties\": {\n        \"dtype\": \"string\",\n        \"num_unique_values\": 2,\n        \"samples\": [\n          \"Multistage PCY\",\n          \"PCY\"\n        ],\n        \"semantic_type\": \"\",\n        \"description\": \"\"\n      }\n    },\n    {\n      \"column\": \"Frequent Pairs\",\n      \"properties\": {\n        \"dtype\": \"number\",\n        \"std\": 0,\n        \"min\": 5773,\n        \"max\": 5773,\n        \"num_unique_values\": 1,\n        \"samples\": [\n          5773\n        ],\n        \"semantic_type\": \"\",\n        \"description\": \"\"\n      }\n    },\n    {\n      \"column\": \"Time (s)\",\n      \"properties\": {\n        \"dtype\": \"number\",\n        \"std\": 21.40059709062035,\n        \"min\": 8.55298399925232,\n        \"max\": 38.81799864768982,\n        \"num_unique_values\": 2,\n        \"samples\": [\n          38.81799864768982\n        ],\n        \"semantic_type\": \"\",\n        \"description\": \"\"\n      }\n    }\n  ]\n}"
            }
          },
          "metadata": {}
        }
      ]
    },
    {
      "cell_type": "code",
      "source": [
        "print(\"\\n📈 Insights:\")\n",
        "print(\"1️⃣ Multistage PCY produces fewer frequent pairs → fewer false positives due to multiple hashing stages.\")\n",
        "print(\"2️⃣ Slight increase in computation time, but higher accuracy.\")\n",
        "print(\"3️⃣ PCY efficiently reduces candidate pairs compared to Apriori but still has collision issues.\")\n",
        "print(\"4️⃣ Multistage PCY’s additional hash pass filters out spurious pairs while keeping memory low.\")\n",
        "print(\"✅ Best suited for large-scale market-basket data (e.g., billions of retail transactions).\")\n"
      ],
      "metadata": {
        "colab": {
          "base_uri": "https://localhost:8080/"
        },
        "id": "vPkVLmboG-wc",
        "outputId": "6f12dc24-d1c0-41fe-fd68-5fbc589dd591"
      },
      "execution_count": null,
      "outputs": [
        {
          "output_type": "stream",
          "name": "stdout",
          "text": [
            "\n",
            "📈 Insights:\n",
            "1️⃣ Multistage PCY produces fewer frequent pairs → fewer false positives due to multiple hashing stages.\n",
            "2️⃣ Slight increase in computation time, but higher accuracy.\n",
            "3️⃣ PCY efficiently reduces candidate pairs compared to Apriori but still has collision issues.\n",
            "4️⃣ Multistage PCY’s additional hash pass filters out spurious pairs while keeping memory low.\n",
            "✅ Best suited for large-scale market-basket data (e.g., billions of retail transactions).\n"
          ]
        }
      ]
    },
    {
      "cell_type": "markdown",
      "source": [
        "📉 Confusion Matrix for PCY vs Multistage PCY"
      ],
      "metadata": {
        "id": "mkKhL9gMHT81"
      }
    },
    {
      "cell_type": "code",
      "source": [
        "from sklearn.metrics import confusion_matrix, ConfusionMatrixDisplay\n",
        "\n",
        "pcy_set = set(pcy_pairs.keys())\n",
        "multi_set = set(multi_pairs.keys())\n",
        "all_pairs = pcy_set.union(multi_set)\n",
        "\n",
        "y_true = [1 if pair in multi_set else 0 for pair in all_pairs]\n",
        "y_pred = [1 if pair in pcy_set else 0 for pair in all_pairs]\n"
      ],
      "metadata": {
        "id": "DLmtoA9SHEi4"
      },
      "execution_count": null,
      "outputs": []
    },
    {
      "cell_type": "code",
      "source": [
        "# Handle case where there is only one label (e.g., all 1s)\n",
        "labels_present = sorted(set(y_true + y_pred))\n",
        "\n",
        "# Generate confusion matrix safely\n",
        "cm = confusion_matrix(y_true, y_pred, labels=labels_present)\n"
      ],
      "metadata": {
        "colab": {
          "base_uri": "https://localhost:8080/"
        },
        "id": "9KwDf7quHWb3",
        "outputId": "3e7f0b35-4fb9-470f-8519-6aae9b0c7a91"
      },
      "execution_count": null,
      "outputs": [
        {
          "output_type": "stream",
          "name": "stderr",
          "text": [
            "/usr/local/lib/python3.12/dist-packages/sklearn/metrics/_classification.py:407: UserWarning: A single label was found in 'y_true' and 'y_pred'. For the confusion matrix to have the correct shape, use the 'labels' parameter to pass all known labels.\n",
            "  warnings.warn(\n"
          ]
        }
      ]
    },
    {
      "cell_type": "code",
      "source": [
        "if cm.shape == (1, 1):\n",
        "    cm = np.array([[cm[0,0], 0],\n",
        "                   [0, 0]]) if labels_present == [0] else np.array([[0, 0],\n",
        "                                                                    [0, cm[0,0]]])\n",
        "elif cm.shape == (1, 2):\n",
        "    # Only one true class (either all 0s or all 1s)\n",
        "    if labels_present == [0,1]:\n",
        "        cm = np.vstack([cm, [0,0]])\n",
        "    else:\n",
        "        cm = np.hstack([cm, [[0],[0]]])\n"
      ],
      "metadata": {
        "id": "WSf89go7HYmo"
      },
      "execution_count": null,
      "outputs": []
    },
    {
      "cell_type": "code",
      "source": [
        "disp = ConfusionMatrixDisplay(confusion_matrix=cm, display_labels=[\"Not Frequent\", \"Frequent\"])\n",
        "disp.plot(cmap=\"Blues\")\n",
        "plt.title(\"Confusion Matrix: PCY vs Multistage PCY\")\n",
        "plt.show()"
      ],
      "metadata": {
        "colab": {
          "base_uri": "https://localhost:8080/",
          "height": 472
        },
        "id": "rJwfNx90Hbwm",
        "outputId": "5b4559fb-2b6c-4046-80d6-c0d07605557d"
      },
      "execution_count": null,
      "outputs": [
        {
          "output_type": "display_data",
          "data": {
            "text/plain": [
              "<Figure size 640x480 with 2 Axes>"
            ],
            "image/png": "[encoded data removed]"
          },
          "metadata": {}
        }
      ]
    },
    {
      "cell_type": "code",
      "source": [
        "# Extract metrics safely\n",
        "tp = cm[1, 1] if cm.shape[0] > 1 and cm.shape[1] > 1 else 0\n",
        "fp = cm[0, 1] if cm.shape[1] > 1 else 0\n",
        "fn = cm[1, 0] if cm.shape[0] > 1 else 0\n",
        "tn = cm[0, 0] if cm.size > 0 else 0\n",
        "\n",
        "precision = tp / (tp + fp) if (tp + fp) > 0 else 0\n",
        "recall = tp / (tp + fn) if (tp + fn) > 0 else 0\n",
        "f1 = 2 * (precision * recall) / (precision + recall) if (precision + recall) > 0 else 0\n"
      ],
      "metadata": {
        "id": "fd5ZpgdLHiAN"
      },
      "execution_count": null,
      "outputs": []
    },
    {
      "cell_type": "code",
      "source": [
        "print(\"\\n--- Confusion Matrix Metrics ---\")\n",
        "print(f\"True Positives (TP): {tp}\")\n",
        "print(f\"False Positives (FP): {fp}\")\n",
        "print(f\"False Negatives (FN): {fn}\")\n",
        "print(f\"True Negatives (TN): {tn}\")\n",
        "print(f\"Precision: {precision:.3f}\")\n",
        "print(f\"Recall: {recall:.3f}\")\n",
        "print(f\"F1-Score: {f1:.3f}\")"
      ],
      "metadata": {
        "colab": {
          "base_uri": "https://localhost:8080/"
        },
        "id": "StPTNDJMIzjF",
        "outputId": "9e70bd60-d242-4036-8180-422c8d62eb2b"
      },
      "execution_count": null,
      "outputs": [
        {
          "output_type": "stream",
          "name": "stdout",
          "text": [
            "\n",
            "--- Confusion Matrix Metrics ---\n",
            "True Positives (TP): 5773\n",
            "False Positives (FP): 0\n",
            "False Negatives (FN): 0\n",
            "True Negatives (TN): 0\n",
            "Precision: 1.000\n",
            "Recall: 1.000\n",
            "F1-Score: 1.000\n"
          ]
        }
      ]
    },
    {
      "cell_type": "code",
      "source": [
        "pip install kagglehub pandas matplotlib seaborn scikit-learn openpyxl\n"
      ],
      "metadata": {
        "colab": {
          "base_uri": "https://localhost:8080/"
        },
        "id": "zAclJvpeI1Yf",
        "outputId": "3e8bc879-a681-4571-dd97-523519f2834c"
      },
      "execution_count": null,
      "outputs": [
        {
          "output_type": "stream",
          "name": "stdout",
          "text": [
            "Requirement already satisfied: kagglehub in /usr/local/lib/python3.12/dist-packages (0.3.13)\n",
            "Requirement already satisfied: pandas in /usr/local/lib/python3.12/dist-packages (2.2.2)\n",
            "Requirement already satisfied: matplotlib in /usr/local/lib/python3.12/dist-packages (3.10.0)\n",
            "Requirement already satisfied: seaborn in /usr/local/lib/python3.12/dist-packages (0.13.2)\n",
            "Requirement already satisfied: scikit-learn in /usr/local/lib/python3.12/dist-packages (1.6.1)\n",
            "Requirement already satisfied: openpyxl in /usr/local/lib/python3.12/dist-packages (3.1.5)\n",
            "Requirement already satisfied: packaging in /usr/local/lib/python3.12/dist-packages (from kagglehub) (25.0)\n",
            "Requirement already satisfied: pyyaml in /usr/local/lib/python3.12/dist-packages (from kagglehub) (6.0.3)\n",
            "Requirement already satisfied: requests in /usr/local/lib/python3.12/dist-packages (from kagglehub) (2.32.4)\n",
            "Requirement already satisfied: tqdm in /usr/local/lib/python3.12/dist-packages (from kagglehub) (4.67.1)\n",
            "Requirement already satisfied: numpy>=1.26.0 in /usr/local/lib/python3.12/dist-packages (from pandas) (2.0.2)\n",
            "Requirement already satisfied: python-dateutil>=2.8.2 in /usr/local/lib/python3.12/dist-packages (from pandas) (2.9.0.post0)\n",
            "Requirement already satisfied: pytz>=2020.1 in /usr/local/lib/python3.12/dist-packages (from pandas) (2025.2)\n",
            "Requirement already satisfied: tzdata>=2022.7 in /usr/local/lib/python3.12/dist-packages (from pandas) (2025.2)\n",
            "Requirement already satisfied: contourpy>=1.0.1 in /usr/local/lib/python3.12/dist-packages (from matplotlib) (1.3.3)\n",
            "Requirement already satisfied: cycler>=0.10 in /usr/local/lib/python3.12/dist-packages (from matplotlib) (0.12.1)\n",
            "Requirement already satisfied: fonttools>=4.22.0 in /usr/local/lib/python3.12/dist-packages (from matplotlib) (4.60.1)\n",
            "Requirement already satisfied: kiwisolver>=1.3.1 in /usr/local/lib/python3.12/dist-packages (from matplotlib) (1.4.9)\n",
            "Requirement already satisfied: pillow>=8 in /usr/local/lib/python3.12/dist-packages (from matplotlib) (11.3.0)\n",
            "Requirement already satisfied: pyparsing>=2.3.1 in /usr/local/lib/python3.12/dist-packages (from matplotlib) (3.2.5)\n",
            "Requirement already satisfied: scipy>=1.6.0 in /usr/local/lib/python3.12/dist-packages (from scikit-learn) (1.16.2)\n",
            "Requirement already satisfied: joblib>=1.2.0 in /usr/local/lib/python3.12/dist-packages (from scikit-learn) (1.5.2)\n",
            "Requirement already satisfied: threadpoolctl>=3.1.0 in /usr/local/lib/python3.12/dist-packages (from scikit-learn) (3.6.0)\n",
            "Requirement already satisfied: et-xmlfile in /usr/local/lib/python3.12/dist-packages (from openpyxl) (2.0.0)\n",
            "Requirement already satisfied: six>=1.5 in /usr/local/lib/python3.12/dist-packages (from python-dateutil>=2.8.2->pandas) (1.17.0)\n",
            "Requirement already satisfied: charset_normalizer<4,>=2 in /usr/local/lib/python3.12/dist-packages (from requests->kagglehub) (3.4.3)\n",
            "Requirement already satisfied: idna<4,>=2.5 in /usr/local/lib/python3.12/dist-packages (from requests->kagglehub) (3.10)\n",
            "Requirement already satisfied: urllib3<3,>=1.21.1 in /usr/local/lib/python3.12/dist-packages (from requests->kagglehub) (2.5.0)\n",
            "Requirement already satisfied: certifi>=2017.4.17 in /usr/local/lib/python3.12/dist-packages (from requests->kagglehub) (2025.10.5)\n"
          ]
        }
      ]
    },
    {
      "cell_type": "markdown",
      "source": [
        "🎓 Gradeo Project: Big Data Retail Analytics using PCY & Multistage PCY"
      ],
      "metadata": {
        "id": "pJ9zHk22JXRU"
      }
    },
    {
      "cell_type": "code",
      "source": [
        "\n",
        "import pandas as pd\n",
        "import matplotlib.pyplot as plt\n",
        "import seaborn as sns\n",
        "import itertools\n",
        "import hashlib\n",
        "import time\n",
        "import numpy as np\n",
        "from collections import Counter\n",
        "from sklearn.metrics import confusion_matrix, ConfusionMatrixDisplay"
      ],
      "metadata": {
        "id": "qKO26nz2JabO"
      },
      "execution_count": null,
      "outputs": []
    },
    {
      "cell_type": "code",
      "source": [
        "# ======================================================\n",
        "# 📊 Gradio Retail Analytics Dashboard + PCY Comparison\n",
        "# ======================================================\n",
        "import gradio as gr\n",
        "import pandas as pd\n",
        "import matplotlib.pyplot as plt\n",
        "import seaborn as sns\n",
        "import itertools\n",
        "import hashlib\n",
        "import time\n",
        "from io import BytesIO\n",
        "from PIL import Image\n",
        "from sklearn.metrics import confusion_matrix, ConfusionMatrixDisplay\n",
        "import numpy as np\n",
        "import os # Import os module\n",
        "\n",
        "# ---------------------------------------------\n",
        "# Load dataset\n",
        "# ---------------------------------------------\n",
        "# Use the 'path' variable from the previous cell to load the data\n",
        "data = pd.read_excel(f\"{path}/online_retail_II.xlsx\")\n",
        "\n",
        "# Clean data\n",
        "data = data.dropna(subset=[\"Invoice\", \"Description\", \"Quantity\", \"Country\"]) # Corrected column names\n",
        "data = data[data[\"Quantity\"] > 0]\n",
        "data[\"Description\"] = data[\"Description\"].astype(str).str.strip().str.lower()\n",
        "data[\"Description\"] = data[\"Description\"].str.replace(r\"[^a-zA-Z0-9\\s]\", \"\", regex=True)\n",
        "\n",
        "# Prepare transactions\n",
        "# Corrected column name 'InvoiceNo' to 'Invoice'\n",
        "transactions = data.groupby(\"Invoice\")[\"Description\"].apply(list).tolist()\n",
        "\n",
        "\n",
        "# ---------------------------------------------\n",
        "# Helper functions for plots\n",
        "# ---------------------------------------------\n",
        "def fig_to_img():\n",
        "    buf = BytesIO()\n",
        "    plt.tight_layout()\n",
        "    plt.savefig(buf, format=\"png\", bbox_inches='tight')\n",
        "    plt.close()\n",
        "    buf.seek(0)\n",
        "    return Image.open(buf)\n",
        "\n",
        "def plot_top_products(n=10):\n",
        "    top_items = data['Description'].value_counts().head(n)\n",
        "    plt.figure(figsize=(8,5))\n",
        "    sns.barplot(x=top_items.values, y=top_items.index, palette=\"Blues_r\")\n",
        "    plt.title(f\"Top {n} Most Sold Products\")\n",
        "    plt.xlabel(\"Quantity Sold\")\n",
        "    plt.ylabel(\"Product Description\")\n",
        "    return fig_to_img()\n",
        "\n",
        "def plot_top_countries(n=10):\n",
        "    top_countries = data['Country'].value_counts().head(n)\n",
        "    plt.figure(figsize=(8,5))\n",
        "    sns.barplot(x=top_countries.index, y=top_countries.values, palette=\"Greens_r\")\n",
        "    plt.title(f\"Top {n} Countries by Number of Transactions\")\n",
        "    plt.ylabel(\"Number of Transactions\")\n",
        "    plt.xlabel(\"Country\")\n",
        "    return fig_to_img()\n",
        "\n",
        "def plot_basket_size_hist():\n",
        "    # Corrected column name 'InvoiceNo' to 'Invoice'\n",
        "    basket_sizes = data.groupby(\"Invoice\")[\"Description\"].nunique()\n",
        "    plt.figure(figsize=(8,5))\n",
        "    sns.histplot(basket_sizes, bins=30, color=\"orange\")\n",
        "    plt.title(\"Distribution of Basket Size (Unique Items per Transaction)\")\n",
        "    plt.xlabel(\"Basket Size\")\n",
        "    plt.ylabel(\"Frequency\")\n",
        "    return fig_to_img()\n",
        "\n",
        "# ---------------------------------------------\n",
        "# PCY and Multistage PCY\n",
        "# ---------------------------------------------\n",
        "def hash_pair(pair, num_buckets, stage=1):\n",
        "    if stage == 1:\n",
        "        return hash(pair) % num_buckets\n",
        "    else:\n",
        "        return int(hashlib.md5(str(pair).encode()).hexdigest(), 16) % num_buckets\n",
        "\n",
        "def pcy_algorithm(transactions, min_support, num_buckets=1000):\n",
        "    # Basic PCY\n",
        "    item_counts = {}\n",
        "    bucket_counts = [0]*num_buckets\n",
        "    for trans in transactions:\n",
        "        items = list(set(trans))\n",
        "        for i in range(len(items)):\n",
        "            item_counts[items[i]] = item_counts.get(items[i],0)+1\n",
        "            for j in range(i+1,len(items)):\n",
        "                b = hash_pair((items[i], items[j]), num_buckets)\n",
        "                bucket_counts[b]+=1\n",
        "    frequent_items = {i for i,c in item_counts.items() if c>=min_support}\n",
        "    frequent_buckets = {i for i,c in enumerate(bucket_counts) if c>=min_support}\n",
        "    pair_counts={}\n",
        "    for trans in transactions:\n",
        "        items = [i for i in trans if i in frequent_items]\n",
        "        for i,j in itertools.combinations(items,2):\n",
        "            b=hash_pair((i,j),num_buckets)\n",
        "            if b in frequent_buckets:\n",
        "                pair_counts[(i,j)] = pair_counts.get((i,j),0)+1\n",
        "    return {p:c for p,c in pair_counts.items() if c>=min_support}\n",
        "\n",
        "def multistage_pcy_algorithm(transactions, min_support, num_buckets=1000):\n",
        "    # Multistage PCY\n",
        "    item_counts = {}\n",
        "    bucket_counts1 = [0]*num_buckets\n",
        "    for trans in transactions:\n",
        "        items = list(set(trans))\n",
        "        for i in range(len(items)):\n",
        "            item_counts[items[i]] = item_counts.get(items[i],0)+1\n",
        "            for j in range(i+1,len(items)):\n",
        "                b1 = hash_pair((items[i],items[j]), num_buckets, stage=1)\n",
        "                bucket_counts1[b1] +=1\n",
        "    frequent_items = {i for i,c in item_counts.items() if c>=min_support}\n",
        "    frequent_buckets1 = {i for i,c in enumerate(bucket_counts1) if c>=min_support}\n",
        "\n",
        "    bucket_counts2 = [0]*num_buckets\n",
        "    for trans in transactions:\n",
        "        items = [i for i in trans if i in frequent_items]\n",
        "        for i,j in itertools.combinations(items,2):\n",
        "            b1 = hash_pair((i,j), num_buckets, stage=1)\n",
        "            if b1 in frequent_buckets1:\n",
        "                b2 = hash_pair((i,j), num_buckets, stage=2)\n",
        "                bucket_counts2[b2]+=1\n",
        "    frequent_buckets2 = {i for i,c in enumerate(bucket_counts2) if c>=min_support}\n",
        "\n",
        "    pair_counts = {}\n",
        "    for trans in transactions:\n",
        "        items = [i for i in trans if i in frequent_items]\n",
        "        for i,j in itertools.combinations(items,2):\n",
        "            b1 = hash_pair((i,j), num_buckets, stage=1)\n",
        "            b2 = hash_pair((i,j), num_buckets, stage=2)\n",
        "            if b1 in frequent_buckets1 and b2 in frequent_buckets2:\n",
        "                pair_counts[(i,j)] = pair_counts.get((i,j),0)+1\n",
        "    return {p:c for p,c in pair_counts.items() if c>=min_support}\n",
        "\n",
        "# Function to generate PCY comparison plots\n",
        "def compare_pcy(min_support=5, num_buckets=300, sample_size=60000):\n",
        "    sample_tx = transactions[:sample_size]\n",
        "\n",
        "    # Run PCY\n",
        "    start = time.time()\n",
        "    basic_pairs = pcy_algorithm(sample_tx, min_support, num_buckets)\n",
        "    t_basic = time.time()-start\n",
        "\n",
        "    start = time.time()\n",
        "    multi_pairs = multistage_pcy_algorithm(sample_tx, min_support, num_buckets)\n",
        "    t_multi = time.time()-start\n",
        "\n",
        "    # Bar plot for frequent pairs\n",
        "    plt.figure(figsize=(6,4))\n",
        "    plt.bar([\"PCY\",\"Multistage PCY\"], [len(basic_pairs), len(multi_pairs)], color=[\"#4a90e2\",\"#50e3c2\"])\n",
        "    plt.title(\"Frequent Pairs Comparison\")\n",
        "    plt.ylabel(\"Number of Frequent Pairs\")\n",
        "    bar_plot_img = fig_to_img()\n",
        "\n",
        "    # Bar plot for execution time\n",
        "    plt.figure(figsize=(6,4))\n",
        "    plt.bar([\"PCY\",\"Multistage PCY\"], [t_basic, t_multi], color=[\"#e26a4a\",\"#4ae295\"])\n",
        "    plt.title(\"Execution Time Comparison\")\n",
        "    plt.ylabel(\"Time (seconds)\")\n",
        "    time_plot_img = fig_to_img()\n",
        "\n",
        "    # Confusion matrix\n",
        "    pcy_set = set(basic_pairs.keys())\n",
        "    multi_set = set(multi_pairs.keys())\n",
        "    all_pairs = pcy_set.union(multi_set)\n",
        "    y_true = [1 if pair in multi_set else 0 for pair in all_pairs]\n",
        "    y_pred = [1 if pair in pcy_set else 0 for pair in all_pairs]\n",
        "    labels_present = sorted(set(y_true+y_pred))\n",
        "    cm = confusion_matrix(y_true, y_pred, labels=labels_present)\n",
        "    if cm.shape==(1,1):\n",
        "        cm = np.array([[cm[0,0],0],[0,0]]) if labels_present==[0] else np.array([[0,0],[0,cm[0,0]]])\n",
        "    disp = ConfusionMatrixDisplay(confusion_matrix=cm, display_labels=[\"Not Frequent\",\"Frequent\"])\n",
        "    disp.plot(cmap=\"Blues\")\n",
        "    plt.title(\"Confusion Matrix: PCY vs Multistage PCY\")\n",
        "    cm_img = fig_to_img()\n",
        "\n",
        "    return bar_plot_img, time_plot_img, cm_img\n",
        "\n",
        "# ---------------------------------------------\n",
        "# Gradio App\n",
        "# ---------------------------------------------\n",
        "with gr.Blocks() as demo:\n",
        "    gr.Markdown(\"## 📊 Retail Analytics Dashboard + PCY Comparison\")\n",
        "\n",
        "    # Tab 1: Top Products\n",
        "    with gr.Tab(\"Top Products\"):\n",
        "        n_products = gr.Slider(5,30,value=10,step=1,label=\"Number of Top Products\")\n",
        "        top_products_plot = gr.Image(type=\"pil\")\n",
        "        top_products_btn = gr.Button(\"Show Top Products\")\n",
        "        top_products_btn.click(plot_top_products, inputs=n_products, outputs=top_products_plot)\n",
        "\n",
        "    # Tab 2: Top Countries\n",
        "    with gr.Tab(\"Top Countries\"):\n",
        "        n_countries = gr.Slider(5,20,value=10,step=1,label=\"Number of Top Countries\")\n",
        "        top_countries_plot = gr.Image(type=\"pil\")\n",
        "        top_countries_btn = gr.Button(\"Show Top Countries\")\n",
        "        top_countries_btn.click(plot_top_countries, inputs=n_countries, outputs=top_countries_plot)\n",
        "\n",
        "    # Tab 3: Basket Size Distribution\n",
        "    with gr.Tab(\"Basket Size Distribution\"):\n",
        "        basket_plot = gr.Image(type=\"pil\")\n",
        "        basket_btn = gr.Button(\"Show Basket Size Distribution\")\n",
        "        basket_btn.click(plot_basket_size_hist, inputs=None, outputs=basket_plot)\n",
        "\n",
        "    # Tab 4: PCY Comparison\n",
        "    with gr.Tab(\"PCY Comparison\"):\n",
        "        min_support = gr.Slider(5,100,value=30,step=1,label=\"Minimum Support\")\n",
        "        num_buckets = gr.Slider(100,5000,value=1000,step=100,label=\"Number of Buckets\")\n",
        "        sample_size = gr.Slider(1000, len(transactions), value=6000, step=1000, label=\"Sample Size of Transactions\")\n",
        "        freq_pairs_plot = gr.Image(type=\"pil\", label=\"Frequent Pairs Comparison\")\n",
        "        time_plot = gr.Image(type=\"pil\", label=\"Execution Time Comparison\")\n",
        "        cm_plot = gr.Image(type=\"pil\", label=\"Confusion Matrix\")\n",
        "        pcy_btn = gr.Button(\"Run PCY Comparison\")\n",
        "        pcy_btn.click(compare_pcy, inputs=[min_support, num_buckets, sample_size],\n",
        "                      outputs=[freq_pairs_plot, time_plot, cm_plot])\n",
        "\n",
        "demo.launch()"
      ],
      "metadata": {
        "colab": {
          "base_uri": "https://localhost:8080/"
        },
        "id": "8LJY19gFJcic",
        "outputId": "cd9dbd12-bd1e-4b15-8f36-e41eb7f6fc33"
      },
      "execution_count": null,
      "outputs": [
        {
          "output_type": "stream",
          "name": "stdout",
          "text": [
            "It looks like you are running Gradio on a hosted Jupyter notebook, which requires `share=True`. Automatically setting `share=True` (you can turn this off by setting `share=False` in `launch()` explicitly).\n",
            "\n",
            "Colab notebook detected. To show errors in colab notebook, set debug=True in launch()\n",
            "* Running on public URL: https://e68f9fefc45f6cbe71.gradio.live\n",
            "\n",
            "This share link expires in 1 week. For free permanent hosting and GPU upgrades, run `gradio deploy` from the terminal in the working directory to deploy to Hugging Face Spaces (https://huggingface.co/spaces)\n"
          ]
        },
        {
          "output_type": "display_data",
          "data": {
            "text/plain": [
              "<IPython.core.display.HTML object>"
            ],
            "text/html": [
              "<div><iframe src=\"https://e68f9fefc45f6cbe71.gradio.live\" width=\"100%\" height=\"500\" allow=\"autoplay; camera; microphone; clipboard-read; clipboard-write;\" frameborder=\"0\" allowfullscreen></iframe></div>"
            ]
          },
          "metadata": {}
        },
        {
          "output_type": "execute_result",
          "data": {
            "text/plain": []
          },
          "metadata": {},
          "execution_count": 8
        }
      ]
    },
    {
      "cell_type": "code",
      "source": [],
      "metadata": {
        "id": "hL_QEuWbSvy1"
      },
      "execution_count": null,
      "outputs": []
    }
  ]
}